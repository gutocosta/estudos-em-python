{
 "cells": [
  {
   "cell_type": "markdown",
   "metadata": {},
   "source": [
    "# Hello World\n",
    "\n",
    "O clássico exercício introdutório. Basta dizer \"Hello, World!\""
   ]
  },
  {
   "cell_type": "markdown",
   "metadata": {},
   "source": [
    "Os objetivos são simples:\n",
    "\n",
    "- Escrever uma função que retorna a string \"Hello, World!\".\n",
    "- Executar a suite de testes e garatir que rode com sucesso."
   ]
  },
  {
   "cell_type": "code",
   "execution_count": 10,
   "metadata": {},
   "outputs": [
    {
     "name": "stdout",
     "output_type": "stream",
     "text": [
      "\u001b[1m============================= test session starts ==============================\u001b[0m\n",
      "platform linux -- Python 3.7.0, pytest-3.8.0, py-1.6.0, pluggy-0.7.1\n",
      "rootdir: /home/informatica/exercism/python/hello-world, inifile:\n",
      "collected 1 item                                                               \u001b[0m\u001b[1m\n",
      "\n",
      "hello_world_test.py F\u001b[36m                                                    [100%]\u001b[0m\n",
      "\n",
      "=================================== FAILURES ===================================\n",
      "\u001b[31m\u001b[1m__________________________ HelloWorldTests.test_hello __________________________\u001b[0m\n",
      "\n",
      "self = <hello_world_test.HelloWorldTests testMethod=test_hello>\n",
      "\n",
      "\u001b[1m    def test_hello(self):\u001b[0m\n",
      "\u001b[1m>       self.assertEqual(hello_world.hello(), 'Hello, World!')\u001b[0m\n",
      "\u001b[1m\u001b[31mE       AssertionError: 'Hello, world!' != 'Hello, World!'\u001b[0m\n",
      "\u001b[1m\u001b[31mE       - Hello, world!\u001b[0m\n",
      "\u001b[1m\u001b[31mE       ?        ^\u001b[0m\n",
      "\u001b[1m\u001b[31mE       + Hello, World!\u001b[0m\n",
      "\u001b[1m\u001b[31mE       ?        ^\u001b[0m\n",
      "\n",
      "\u001b[1m\u001b[31mhello_world_test.py\u001b[0m:10: AssertionError\n",
      "\u001b[31m\u001b[1m=========================== 1 failed in 0.03 seconds ===========================\u001b[0m\n"
     ]
    }
   ],
   "source": [
    "!pytest hello_world_test.py"
   ]
  },
  {
   "cell_type": "code",
   "execution_count": 11,
   "metadata": {},
   "outputs": [
    {
     "name": "stdout",
     "output_type": "stream",
     "text": [
      "\u001b[1m============================= test session starts ==============================\u001b[0m\r\n",
      "platform linux -- Python 3.7.0, pytest-3.8.0, py-1.6.0, pluggy-0.7.1\r\n",
      "rootdir: /home/informatica/exercism/python/hello-world, inifile:\r\n",
      "\u001b[1m\r",
      "collecting 0 items                                                             \u001b[0m\u001b[1m\r",
      "collecting 1 item                                                              \u001b[0m\u001b[1m\r",
      "collecting 1 item                                                              \u001b[0m\u001b[1m\r",
      "collected 1 item                                                               \u001b[0m\r\n",
      "\r\n",
      "hello_world_test.py .\u001b[36m                                                    [100%]\u001b[0m\r\n",
      "\r\n",
      "\u001b[32m\u001b[1m=========================== 1 passed in 0.01 seconds ===========================\u001b[0m\r\n"
     ]
    }
   ],
   "source": [
    "!pytest hello_world_test.py"
   ]
  },
  {
   "cell_type": "code",
   "execution_count": null,
   "metadata": {},
   "outputs": [],
   "source": []
  }
 ],
 "metadata": {
  "kernelspec": {
   "display_name": "Python 3",
   "language": "python",
   "name": "python3"
  },
  "language_info": {
   "codemirror_mode": {
    "name": "ipython",
    "version": 3
   },
   "file_extension": ".py",
   "mimetype": "text/x-python",
   "name": "python",
   "nbconvert_exporter": "python",
   "pygments_lexer": "ipython3",
   "version": "3.7.0"
  }
 },
 "nbformat": 4,
 "nbformat_minor": 2
}
